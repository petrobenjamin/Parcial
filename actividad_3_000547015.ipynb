{
  "nbformat": 4,
  "nbformat_minor": 0,
  "metadata": {
    "colab": {
      "provenance": [],
      "authorship_tag": "ABX9TyMz44/Q3XTq0F6heMrWldPg",
      "include_colab_link": true
    },
    "kernelspec": {
      "name": "python3",
      "display_name": "Python 3"
    },
    "language_info": {
      "name": "python"
    }
  },
  "cells": [
    {
      "cell_type": "markdown",
      "metadata": {
        "id": "view-in-github",
        "colab_type": "text"
      },
      "source": [
        "<a href=\"https://colab.research.google.com/github/petrobenjamin/Parcial/blob/main/actividad_3_000547015.ipynb\" target=\"_parent\"><img src=\"https://colab.research.google.com/assets/colab-badge.svg\" alt=\"Open In Colab\"/></a>"
      ]
    },
    {
      "cell_type": "markdown",
      "source": [
        "## Actividad Evaluativa 3\n",
        "\n",
        " *Fecha:* 22 de marzo de 2024\n",
        "\n",
        " *Presentado por:* Benjamin Petro Ramirez\n",
        "\n",
        " *Email:* benjamin.petro@upb.edu.co"
      ],
      "metadata": {
        "id": "1UG_Hh5YTEE2"
      }
    },
    {
      "cell_type": "code",
      "execution_count": null,
      "metadata": {
        "id": "p1TaOaXkTDfi"
      },
      "outputs": [],
      "source": [
        "import math\n",
        "frecuencia_señal = int(input(\"Ingrese la frecuencia de la señal: \"))\n",
        "MEDIA = 1000\n",
        "DESVIACION_ESTANDAR = 300\n",
        "UMBRAL = 0.3\n",
        "probabilidad_acumulada = 0\n",
        "for f in range(frecuencia_señal + 1):\n",
        "    resultado = (1 / (DESVIACION_ESTANDAR * math.sqrt(2 * math.pi))) * math.exp(-(1/2) * ((f - MEDIA) / DESVIACION_ESTANDAR) ** 2)\n",
        "    probabilidad_acumulada += resultado\n",
        "if probabilidad_acumulada > UMBRAL:\n",
        "    print(resultado)\n",
        "    print(\"La señal pasa el filtro.\")\n",
        "else:\n",
        "    print(resultado)\n",
        "    print(\"La señal es bloqueada por el filtro.\")"
      ]
    }
  ]
}